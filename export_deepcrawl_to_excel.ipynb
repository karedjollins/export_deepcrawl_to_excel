{
  "nbformat": 4,
  "nbformat_minor": 0,
  "metadata": {
    "colab": {
      "name": "export_deepcrawl_to_excel.ipynb",
      "provenance": [],
      "collapsed_sections": []
    },
    "kernelspec": {
      "name": "python3",
      "display_name": "Python 3"
    }
  },
  "cells": [
    {
      "cell_type": "markdown",
      "metadata": {
        "id": "KdJQbTr5CWOV"
      },
      "source": [
        "#**📩   Export Deep Crawl Reports to Excel**"
      ]
    },
    {
      "cell_type": "code",
      "metadata": {
        "id": "TAKvnkTiybmr"
      },
      "source": [
        "!pip install deepcrawl\n",
        "import deepcrawl, pandas as pd\n",
        "api_key = \"API_KEY\"\n",
        "api_id = \"API_ID\"\n",
        "account_id = \"ACCOUNT_ID\" # Find this in URL in interface\n",
        "project_search_string = \"PROJECT_NAME\" # Guess at the name of the project"
      ],
      "execution_count": null,
      "outputs": []
    },
    {
      "cell_type": "code",
      "metadata": {
        "id": "r78pK-MqKfbV"
      },
      "source": [
        "dc = deepcrawl.DeepCrawlConnection(api_id, api_key, sleep=0.2)\n",
        "\n",
        "# Guess at the name of the project\n",
        "project_search_string = \"PROJECT_NAME\"\n",
        "\n",
        "# Get all projects in account and print out ones that contain project_search_string set above\n",
        "projects = dc.get_projects(account_id)\n",
        "[(project.to_dict['name'], project.id) for project in projects if project_search_string in str(project.to_dict['name'])]"
      ],
      "execution_count": null,
      "outputs": []
    },
    {
      "cell_type": "code",
      "metadata": {
        "id": "S0RRMIinR4D4"
      },
      "source": [
        "project_id = \"PROJECT_ID\" # Update with project_id from project identified in previous step\n",
        "\n",
        "# Get project\n",
        "project = dc.get_project(account_id, project_id) # Update with account_id\n",
        "\n",
        "# Get crawls\n",
        "crawls = project.get_crawls()\n",
        "\n",
        "# Get latest crawl (update to get previous ones)\n",
        "crawl = crawls[0]\n",
        "\n",
        "# Get all reports\n",
        "all_reports = crawl.get_reports()\n",
        "\n",
        "# Filter for reports that have rows and are flagged as an 'issue' and sort by severity\n",
        "reports = []\n",
        "[reports.append(report) for report in all_reports if report.to_dict['report_type'] in \"basic\" if report.to_dict['total_weight'] < 0]\n",
        "reports = sorted(reports, key=lambda x: x.to_dict['total_weight']) "
      ],
      "execution_count": null,
      "outputs": []
    },
    {
      "cell_type": "code",
      "metadata": {
        "id": "pT1e46gxvNwc"
      },
      "source": [
        "!pip install xlsxwriter\n",
        "!pip install openpyxl\n",
        "import xlsxwriter\n",
        "from openpyxl import load_workbook\n",
        "from openpyxl.styles import Alignment\n",
        "from IPython.display import clear_output\n",
        "clear_output()\n",
        "\n",
        "# Name of output file\n",
        "excel_filename = \"OUTPUT_FILENAME.xlsx\"\n",
        "\n",
        "writer = pd.ExcelWriter(excel_filename, engine = 'openpyxl')\n",
        "\n",
        "# Get report rows, create dataframe and export to tabs of excel file\n",
        "for counter, report in enumerate(reports):\n",
        "  rinfo = report.to_dict\n",
        "  report_name = rinfo['report_template']\n",
        "  print(f'Building report {counter}/{len(reports)} - {report_name}')\n",
        "  rows = report.get_report_rows()\n",
        "  report_data = []\n",
        "  [report_data.append(row.data) for row in rows]\n",
        "  df = pd.DataFrame.from_dict(report_data)\n",
        "  if 'url' in df.columns:\n",
        "    df = df.sort_values('url')\n",
        "  with writer:\n",
        "    df.to_excel(writer, sheet_name=report_name, index=False)\n",
        "    ws = writer.sheets[report_name]\n",
        "    print('Writing to workbook')\n",
        "    \n",
        "    # Update header rows styling\n",
        "    for cell in ws[1]:\n",
        "      cell.style = 'Normal'\n",
        "      cell.alignment = Alignment(horizontal=\"left\", vertical=\"center\")\n",
        "  \n",
        "  clear_output()\n",
        "\n",
        "print(f'✅ {excel_filename} created and exported')"
      ],
      "execution_count": null,
      "outputs": []
    }
  ]
}